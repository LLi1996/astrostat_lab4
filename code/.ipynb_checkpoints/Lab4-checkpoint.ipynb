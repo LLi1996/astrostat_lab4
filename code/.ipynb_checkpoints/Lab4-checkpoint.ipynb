{
 "cells": [
  {
   "cell_type": "markdown",
   "metadata": {},
   "source": [
    "# Astrostat Lab4: model selection"
   ]
  },
  {
   "cell_type": "code",
   "execution_count": 3,
   "metadata": {
    "collapsed": false
   },
   "outputs": [
    {
     "name": "stdout",
     "output_type": "stream",
     "text": [
      "119  HARPS points;  122  HIRES points\n",
      "Initial run of M0fix: chi2 = 395.796125744, 241 points\n",
      "Real M0 run: chi2 = 390.531407575, loglike = -567.848003674\n"
     ]
    }
   ],
   "source": [
    "# run the original notebook for M0fix and M0\n",
    "%run 'fit.ipynb'"
   ]
  },
  {
   "cell_type": "code",
   "execution_count": 4,
   "metadata": {
    "collapsed": false
   },
   "outputs": [],
   "source": [
    "import numpy as np"
   ]
  },
  {
   "cell_type": "code",
   "execution_count": 10,
   "metadata": {
    "collapsed": true
   },
   "outputs": [],
   "source": [
    "# define BIC, AIC, reduced chi2, bayes factor functions\n",
    "\n",
    "def get_BIC(loglike, k, N):\n",
    "    \"\"\"calculates the BIC\n",
    "    Arguments:\n",
    "        loglike {float} -- log likelihood\n",
    "        k {int} -- number of parameters\n",
    "        N {int} -- number of data points\n",
    "    Return:\n",
    "        BIC {float} -- Bayesian Information Criterion\n",
    "    \"\"\"\n",
    "    BIC = k * np.log(N) - 2 * loglike\n",
    "    return BIC\n",
    "\n",
    "\n",
    "def get_AIC(loglike, k):\n",
    "    \"\"\"calculates the AIC\n",
    "    Arguments:\n",
    "        loglike {float} -- log likelihood\n",
    "        k {int} -- number of parameters\n",
    "    Return:\n",
    "        AIC {float} -- Akaike Information Criterion\n",
    "    \"\"\"\n",
    "    AIC = 2 * k - 2 * loglike\n",
    "    return AIC\n",
    "\n",
    "def get_reduced_chi2(chi2, k, N):\n",
    "    \"\"\"calculates the reduced chi2\n",
    "    Arguments:\n",
    "        chi2 {float} -- log likelihood\n",
    "        k {int} -- number of parameters\n",
    "        N {int} -- number of data points\n",
    "    Return:\n",
    "        reduced_chi2 {float}\n",
    "    \"\"\"\n",
    "    reduced_chi2 = chi2 / (N - k)\n",
    "\n",
    "def bayes_factor(IC1, IC2):\n",
    "    \"\"\"calculates the bayes factor\n",
    "    Arguments:\n",
    "        IC1 {float} -- could be BIC or AIC for the first model\n",
    "        IC2 {float} -- could be BIC or AIC for the second model\n",
    "    return:\n",
    "        bayes_factor {float} -- is > 1 if IC1 < IC2\n",
    "    \"\"\"\n",
    "    bayes_factor = np.e ** (-.5 * (IC1 - IC2))\n",
    "    return bayes_factor"
   ]
  },
  {
   "cell_type": "markdown",
   "metadata": {},
   "source": [
    "### M0fix & M0 (coded up in fix.ipynb): planets b c d e"
   ]
  },
  {
   "cell_type": "code",
   "execution_count": 14,
   "metadata": {
    "collapsed": true
   },
   "outputs": [],
   "source": [
    "m0_N = 119 + 122 # HARPS and HIRES datapoints\n",
    "m0_k = 12 # degrees of freedom\n",
    "m0_loglike = -567.848003674 # from fit.ipynb run"
   ]
  },
  {
   "cell_type": "markdown",
   "metadata": {},
   "source": [
    "### Mffix & Mf: planets b c d e + f"
   ]
  },
  {
   "cell_type": "code",
   "execution_count": null,
   "metadata": {
    "collapsed": true
   },
   "outputs": [],
   "source": []
  },
  {
   "cell_type": "markdown",
   "metadata": {},
   "source": [
    "### Mgfix & Mg: planets b c d e + g"
   ]
  },
  {
   "cell_type": "code",
   "execution_count": null,
   "metadata": {
    "collapsed": true
   },
   "outputs": [],
   "source": []
  },
  {
   "cell_type": "markdown",
   "metadata": {},
   "source": [
    "### Mfgfix & Mfg: planets b c d e + f&g"
   ]
  },
  {
   "cell_type": "code",
   "execution_count": null,
   "metadata": {
    "collapsed": true
   },
   "outputs": [],
   "source": []
  },
  {
   "cell_type": "code",
   "execution_count": null,
   "metadata": {
    "collapsed": true
   },
   "outputs": [],
   "source": []
  },
  {
   "cell_type": "code",
   "execution_count": null,
   "metadata": {
    "collapsed": true
   },
   "outputs": [],
   "source": [
    "scipy erro funciton add 1-"
   ]
  }
 ],
 "metadata": {
  "kernelspec": {
   "display_name": "Python 2",
   "language": "python",
   "name": "python2"
  },
  "language_info": {
   "codemirror_mode": {
    "name": "ipython",
    "version": 2
   },
   "file_extension": ".py",
   "mimetype": "text/x-python",
   "name": "python",
   "nbconvert_exporter": "python",
   "pygments_lexer": "ipython2",
   "version": "2.7.12"
  }
 },
 "nbformat": 4,
 "nbformat_minor": 0
}
